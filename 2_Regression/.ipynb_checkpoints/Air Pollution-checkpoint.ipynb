{
 "cells": [
  {
   "cell_type": "code",
   "execution_count": 1,
   "metadata": {},
   "outputs": [],
   "source": [
    "import matplotlib.pyplot as plt\n",
    "import numpy as np\n",
    "import pandas as pd"
   ]
  },
  {
   "cell_type": "code",
   "execution_count": 5,
   "metadata": {},
   "outputs": [
    {
     "name": "stdout",
     "output_type": "stream",
     "text": [
      "6\n"
     ]
    }
   ],
   "source": [
    "df = pd.read_csv('Train.csv')\n",
    "data = df.values\n",
    "X = data[:,0:data.shape[1]-1]\n",
    "Y = data[:,data.shape[1]-1:]"
   ]
  },
  {
   "cell_type": "code",
   "execution_count": 10,
   "metadata": {},
   "outputs": [],
   "source": [
    "def hypothesis(x,theta):\n",
    "    m = x.shape[0]\n",
    "    ans = 0.0\n",
    "    for i in range(m):\n",
    "        ans += x[i]*theta[i+1]\n",
    "    ans = ans+theta[0]\n",
    "    return ans\n",
    "\n",
    "def error(X,Y,theta):\n",
    "    n = X.shape[0]\n",
    "    err = 0\n",
    "    for i in range(n):\n",
    "        hyp = hypothesis(X[i],theta)\n",
    "        err += (hyp-Y[i])**2\n",
    "    return err\n",
    "\n",
    "def gradient(X,Y,theta):\n",
    "    grad = np.zeros((X.shape[1]+1,))\n",
    "    n = X.shape[0]\n",
    "    m = X.shape[1]+1\n",
    "    \n",
    "    for j in range(1,m):\n",
    "        for i in range(n):\n",
    "            hyp = hypothesis(X[i],theta)\n",
    "            grad[j]=grad[j] + (hyp-Y[i])*X[i][j-1]\n",
    "    \n",
    "    for i in range(n):\n",
    "        hyp = hypothesis(X[i],theta)\n",
    "        grad[0]=grad[0] + (hyp-Y[i])\n",
    "    return grad\n",
    "\n",
    "def grad_algo(X,Y,learning_rate= 0.00005):\n",
    "    theta = np.zeros((X.shape[1]+1,))\n",
    "    max_itr =100\n",
    "    itr=1\n",
    "    m = X.shape[1]+1\n",
    "    err_list =[]\n",
    "    while(itr<max_itr):\n",
    "        grad = gradient(X,Y,theta)\n",
    "        e = error(X,Y,theta)\n",
    "        err_list.append(e)\n",
    "        for i in range(m):\n",
    "            theta[i]= theta[i]- learning_rate*grad[i]\n",
    "        itr = itr+1\n",
    "    return theta,err_list"
   ]
  },
  {
   "cell_type": "code",
   "execution_count": 11,
   "metadata": {},
   "outputs": [
    {
     "name": "stdout",
     "output_type": "stream",
     "text": [
      "[ 4.97738284 29.67077789 92.64237262  8.26518179 44.75305329  2.51249142]\n"
     ]
    },
    {
     "data": {
      "text/plain": [
       "[<matplotlib.lines.Line2D at 0xd4afb0>]"
      ]
     },
     "execution_count": 11,
     "metadata": {},
     "output_type": "execute_result"
    },
    {
     "data": {
      "image/png": "[encoded data removed]",
      "text/plain": [
       "<Figure size 432x288 with 1 Axes>"
      ]
     },
     "metadata": {
      "needs_background": "light"
     },
     "output_type": "display_data"
    }
   ],
   "source": [
    "final_theta,err_list = grad_algo(X,Y)\n",
    "print(final_theta)\n",
    "plt.plot(err_list)"
   ]
  },
  {
   "cell_type": "code",
   "execution_count": 12,
   "metadata": {},
   "outputs": [
    {
     "name": "stdout",
     "output_type": "stream",
     "text": [
      "(400, 5)\n"
     ]
    }
   ],
   "source": [
    "testX = pd.read_csv('Test.csv')\n",
    "testX = testX.values\n",
    "print(testX.shape)\n",
    "testY = []"
   ]
  },
  {
   "cell_type": "code",
   "execution_count": 13,
   "metadata": {},
   "outputs": [
    {
     "name": "stdout",
     "output_type": "stream",
     "text": [
      "(400,)\n"
     ]
    }
   ],
   "source": [
    "for i in range(testX.shape[0]):\n",
    "    testY.append(hypothesis(testX[i],final_theta))\n",
    "\n",
    "testY = np.array(testY)\n",
    "print(testY.shape)"
   ]
  },
  {
   "cell_type": "code",
   "execution_count": 15,
   "metadata": {},
   "outputs": [
    {
     "name": "stdout",
     "output_type": "stream",
     "text": [
      "114.56325614492746\n"
     ]
    }
   ],
   "source": [
    "print(testY[0])"
   ]
  },
  {
   "cell_type": "code",
   "execution_count": null,
   "metadata": {},
   "outputs": [],
   "source": []
  }
 ],
 "metadata": {
  "kernelspec": {
   "display_name": "Python 3",
   "language": "python",
   "name": "python3"
  },
  "language_info": {
   "codemirror_mode": {
    "name": "ipython",
    "version": 3
   },
   "file_extension": ".py",
   "mimetype": "text/x-python",
   "name": "python",
   "nbconvert_exporter": "python",
   "pygments_lexer": "ipython3",
   "version": "3.7.0"
  }
 },
 "nbformat": 4,
 "nbformat_minor": 2
}
